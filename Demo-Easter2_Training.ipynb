{
 "cells": [
  {
   "cell_type": "code",
   "execution_count": null,
   "id": "initial_id",
   "metadata": {
    "ExecuteTime": {
     "end_time": "2024-05-23T09:31:22.461698Z",
     "start_time": "2024-05-23T09:31:18.504735Z"
    },
    "collapsed": true
   },
   "outputs": [],
   "source": [
    "import os\n",
    "import torch\n",
    "import logging\n",
    "import matplotlib.pyplot as plt\n",
    "from BudaOCR.Config import N_CHARSET\n",
    "from BudaOCR.Modules import EasterNetwork, OCRTrainer, WylieEncoder, StackEncoder\n",
    "from BudaOCR.Utils import shuffle_data, create_dir, read_stack_file, build_data_paths, build_distribution_from_directory\n",
    "from huggingface_hub import snapshot_download\n",
    "\n",
    "logging.getLogger().setLevel(logging.INFO)\n",
    "print(torch.__version__)\n",
    "torch.cuda.empty_cache()"
   ]
  },
  {
   "cell_type": "code",
   "execution_count": null,
   "id": "84e72549cc5c70ce",
   "metadata": {
    "ExecuteTime": {
     "end_time": "2024-05-23T09:31:22.470493Z",
     "start_time": "2024-05-23T09:31:22.464654Z"
    },
    "collapsed": false
   },
   "outputs": [],
   "source": [
    "charset = N_CHARSET\n",
    "wylie_encoder = WylieEncoder(N_CHARSET)\n",
    "\n",
    "stack_file = f\"tib-stacks.txt\"\n",
    "stacks = read_stack_file(stack_file)\n",
    "stack_encoder = StackEncoder(stacks)\n",
    "\n",
    "print(stack_encoder.num_classes())\n",
    "print(wylie_encoder.num_classes())"
   ]
  },
  {
   "cell_type": "markdown",
   "id": "a5047170",
   "metadata": {},
   "source": [
    "#### Train from single Dataset"
   ]
  },
  {
   "cell_type": "code",
   "execution_count": null,
   "id": "196cf604",
   "metadata": {},
   "outputs": [],
   "source": [
    "data_path = snapshot_download(repo_id=\"BDRC/Karmapa8\", repo_type=\"dataset\",  cache_dir=\"Datasets\")\n",
    "dataset_path = f\"{data_path}/Dataset\"\n",
    "image_paths, label_paths = build_data_paths(dataset_path)\n",
    "image_paths, label_paths = shuffle_data(image_paths, label_paths)\n",
    "\n",
    "print(f\"Images: {len(image_paths)}, Labels: {len(label_paths)}\")"
   ]
  },
  {
   "cell_type": "code",
   "execution_count": null,
   "id": "6f103c1f",
   "metadata": {},
   "outputs": [],
   "source": [
    "output_dir = os.path.join(dataset_path, \"Output\")\n",
    "create_dir(output_dir)\n",
    "\n",
    "image_width = 3200\n",
    "image_height = 100\n",
    "num_classes = stack_encoder.num_classes()\n",
    "network = EasterNetwork(num_classes=num_classes, image_width=image_width, image_height=image_height, mean_pooling=True)\n",
    "workers = 4\n",
    "\n",
    "ocr_trainer = OCRTrainer(\n",
    "    network=network,\n",
    "    label_encoder=stack_encoder,\n",
    "    workers=workers, \n",
    "    image_width=image_width,\n",
    "    image_height=image_height,\n",
    "    batch_size=32, \n",
    "    output_dir=output_dir, \n",
    "    preload_labels=True\n",
    "    )\n",
    "\n",
    "ocr_trainer.init(image_paths, label_paths)\n",
    "ocr_trainer.train(epochs=40, check_cer=True, export_onnx=True)"
   ]
  },
  {
   "cell_type": "markdown",
   "id": "45f6cf63",
   "metadata": {},
   "source": [
    "#### Train from a distribution assembled from multiple directories"
   ]
  },
  {
   "cell_type": "code",
   "execution_count": null,
   "id": "9b16a83a",
   "metadata": {},
   "outputs": [],
   "source": [
    "dataset_path = \"Datasets/Drutsa-Complete\"\n",
    "distribution = build_distribution_from_directory(dataset_path)"
   ]
  },
  {
   "cell_type": "code",
   "execution_count": null,
   "id": "b13144a7",
   "metadata": {},
   "outputs": [],
   "source": [
    "output_dir = os.path.join(dataset_path, \"Output\")\n",
    "create_dir(output_dir)\n",
    "\n",
    "image_width = 3200\n",
    "image_height = 100\n",
    "num_classes = wylie_encoder.num_classes()\n",
    "\n",
    "network = EasterNetwork(num_classes=num_classes, image_width=image_width, image_height=image_height, mean_pooling=True)\n",
    "workers = 4\n",
    "\n",
    "ocr_trainer = OCRTrainer(\n",
    "    network=network,\n",
    "    label_encoder=wylie_encoder,\n",
    "    workers=workers, \n",
    "    image_width=image_width,\n",
    "    image_height=image_height,\n",
    "    batch_size=32, \n",
    "    output_dir=output_dir, \n",
    "    preload_labels=True\n",
    "    )\n",
    "\n",
    "ocr_trainer.init_from_distribution(distribution)\n",
    "ocr_trainer.train(epochs=80, scheduler_start=60, patience=10, check_cer=True, export_onnx=True)"
   ]
  }
 ],
 "metadata": {
  "kernelspec": {
   "display_name": "Python 3",
   "language": "python",
   "name": "python3"
  },
  "language_info": {
   "codemirror_mode": {
    "name": "ipython",
    "version": 3
   },
   "file_extension": ".py",
   "mimetype": "text/x-python",
   "name": "python",
   "nbconvert_exporter": "python",
   "pygments_lexer": "ipython3",
   "version": "3.11.9"
  }
 },
 "nbformat": 4,
 "nbformat_minor": 5
}
