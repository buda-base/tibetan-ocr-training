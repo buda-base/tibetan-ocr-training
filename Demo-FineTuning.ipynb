{
 "cells": [
  {
   "cell_type": "code",
   "execution_count": null,
   "metadata": {},
   "outputs": [],
   "source": [
    "import os\n",
    "import torch\n",
    "import logging\n",
    "from BudaOCR.Config import CHARSET\n",
    "from BudaOCR.Modules import EasterNetwork, OCRTrainer, WylieEncoder\n",
    "from BudaOCR.Utils import shuffle_data, create_dir, build_data_paths\n",
    "\n",
    "logging.getLogger().setLevel(logging.INFO)\n",
    "print(torch.__version__)\n",
    "torch.cuda.empty_cache()"
   ]
  },
  {
   "cell_type": "code",
   "execution_count": 2,
   "metadata": {},
   "outputs": [
    {
     "name": "stdout",
     "output_type": "stream",
     "text": [
      "Images: 4147, Labels: 4147\n"
     ]
    }
   ],
   "source": [
    "dataset_path = \"E:/Datasets/OCR/Glomanthang/Glomanthang/Stuff/Dataset_January2024_merged_bw\"\n",
    "image_paths, label_paths = build_data_paths(dataset_path)\n",
    "image_paths, label_paths = shuffle_data(image_paths, label_paths)\n",
    "\n",
    "print(f\"Images: {len(image_paths)}, Labels: {len(label_paths)}\")"
   ]
  },
  {
   "cell_type": "code",
   "execution_count": null,
   "metadata": {},
   "outputs": [],
   "source": [
    "charset = CHARSET\n",
    "label_encoder = WylieEncoder(CHARSET)\n",
    "output_dir = os.path.join(dataset_path, \"Output\")\n",
    "create_dir(output_dir)\n",
    "\n",
    "image_width = 3200\n",
    "image_height = 80\n",
    "num_classes = label_encoder.num_classes()\n",
    "\n",
    "# Fine Tune an Easter2 Network\n",
    "network = EasterNetwork(num_classes=num_classes, image_width=image_width, image_height=image_height, mean_pooling=True)\n",
    "workers = 4\n",
    "\n",
    "checkpoint_path = \"Checkpoints/2024_8_26_19_3/OCRModel_4.pth\"\n",
    "network.fine_tune(checkpoint_path)"
   ]
  },
  {
   "cell_type": "code",
   "execution_count": null,
   "metadata": {},
   "outputs": [],
   "source": [
    "ocr_trainer = OCRTrainer(\n",
    "    network=network,\n",
    "    label_encoder=label_encoder,\n",
    "    workers=workers, \n",
    "    image_width=image_width,\n",
    "    image_height=image_height,\n",
    "    batch_size=32, \n",
    "    output_dir=output_dir, \n",
    "    preload_labels=True\n",
    "    )\n",
    "\n",
    "ocr_trainer.init(image_paths, label_paths)\n",
    "ocr_trainer.train(epochs=24, check_cer=True, export_onnx=True)"
   ]
  }
 ],
 "metadata": {
  "kernelspec": {
   "display_name": ".venv",
   "language": "python",
   "name": "python3"
  },
  "language_info": {
   "codemirror_mode": {
    "name": "ipython",
    "version": 3
   },
   "file_extension": ".py",
   "mimetype": "text/x-python",
   "name": "python",
   "nbconvert_exporter": "python",
   "pygments_lexer": "ipython3",
   "version": "3.11.9"
  }
 },
 "nbformat": 4,
 "nbformat_minor": 2
}
