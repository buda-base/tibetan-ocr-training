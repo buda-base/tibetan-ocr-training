{
 "cells": [
  {
   "cell_type": "code",
   "execution_count": null,
   "metadata": {},
   "outputs": [],
   "source": [
    "import os\n",
    "import torch\n",
    "import logging\n",
    "from zipfile import ZipFile\n",
    "from BudaOCR.Config import N_CHARSET\n",
    "from huggingface_hub import snapshot_download\n",
    "from BudaOCR.Modules import CRNNNetwork, OCRTrainer, WylieEncoder\n",
    "from BudaOCR.Utils import shuffle_data, create_dir, build_data_paths\n",
    "logging.getLogger().setLevel(logging.INFO)\n",
    "\n",
    "torch.cuda.empty_cache()\n",
    "print(torch.__version__)"
   ]
  },
  {
   "cell_type": "code",
   "execution_count": 2,
   "metadata": {},
   "outputs": [],
   "source": [
    "charset = N_CHARSET\n",
    "num_classes=len(charset)+1"
   ]
  },
  {
   "cell_type": "code",
   "execution_count": null,
   "metadata": {},
   "outputs": [],
   "source": [
    "data_path = snapshot_download(repo_id=\"BDRC/Karmapa8\", repo_type=\"dataset\",  cache_dir=\"Datasets\")\n",
    "\n",
    "with ZipFile(f\"{data_path}/data.zip\", 'r') as zip:\n",
    "    zip.extractall(f\"{data_path}/Dataset\")\n",
    "\n",
    "dataset_path = f\"{data_path}/Dataset\"\n",
    "image_paths, label_paths = build_data_paths(dataset_path)\n",
    "image_paths, label_paths = shuffle_data(image_paths, label_paths)\n",
    "\n",
    "print(f\"Images: {len(image_paths)}, Labels: {len(label_paths)}\")\n",
    "\n",
    "output_dir = os.path.join(\"Output\")\n",
    "create_dir(output_dir)"
   ]
  },
  {
   "cell_type": "code",
   "execution_count": 8,
   "metadata": {},
   "outputs": [
    {
     "name": "stdout",
     "output_type": "stream",
     "text": [
      "Images: 5946, Labels: 5946\n"
     ]
    }
   ],
   "source": [
    "dataset_path = \"E:/Datasets/OCR/DbuMed/NEW/Drutsa-Batch31/batch31\"\n",
    "image_paths, label_paths = build_data_paths(dataset_path)\n",
    "image_paths, label_paths = shuffle_data(image_paths, label_paths)\n",
    "\n",
    "print(f\"Images: {len(image_paths)}, Labels: {len(label_paths)}\")"
   ]
  },
  {
   "cell_type": "code",
   "execution_count": 9,
   "metadata": {},
   "outputs": [
    {
     "name": "stdout",
     "output_type": "stream",
     "text": [
      "80\n"
     ]
    }
   ],
   "source": [
    "wylie_encoder = WylieEncoder(N_CHARSET)\n",
    "print(wylie_encoder.num_classes())"
   ]
  },
  {
   "cell_type": "code",
   "execution_count": null,
   "metadata": {},
   "outputs": [],
   "source": [
    "output_dir = os.path.join(dataset_path, \"Output\")\n",
    "create_dir(output_dir)\n",
    "\n",
    "image_width = 3200\n",
    "image_height = 100\n",
    "num_classes = wylie_encoder.num_classes()\n",
    "\n",
    "network = CRNNNetwork(image_width=image_width, image_height=image_height, num_classes=num_classes)\n",
    "workers = 4\n",
    "\n",
    "ocr_trainer = OCRTrainer(\n",
    "    network=network,\n",
    "    label_encoder=wylie_encoder,\n",
    "    workers=workers, \n",
    "    image_width=image_width,\n",
    "    image_height=image_height,\n",
    "    batch_size=32, \n",
    "    output_dir=output_dir, \n",
    "    preload_labels=True\n",
    "    )\n",
    "\n",
    "ocr_trainer.init(image_paths, label_paths)"
   ]
  },
  {
   "cell_type": "code",
   "execution_count": 11,
   "metadata": {},
   "outputs": [
    {
     "name": "stdout",
     "output_type": "stream",
     "text": [
      "Training network....\n"
     ]
    },
    {
     "name": "stderr",
     "output_type": "stream",
     "text": [
      "  0%|          | 0/148 [00:00<?, ?it/s]"
     ]
    }
   ],
   "source": [
    "ocr_trainer.train(epochs=40, scheduler_start=32, check_cer=True)"
   ]
  }
 ],
 "metadata": {
  "kernelspec": {
   "display_name": ".venv",
   "language": "python",
   "name": "python3"
  },
  "language_info": {
   "codemirror_mode": {
    "name": "ipython",
    "version": 3
   },
   "file_extension": ".py",
   "mimetype": "text/x-python",
   "name": "python",
   "nbconvert_exporter": "python",
   "pygments_lexer": "ipython3",
   "version": "3.11.9"
  }
 },
 "nbformat": 4,
 "nbformat_minor": 2
}
