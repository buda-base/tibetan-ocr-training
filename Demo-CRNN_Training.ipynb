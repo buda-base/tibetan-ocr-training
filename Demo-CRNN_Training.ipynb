{
 "cells": [
  {
   "cell_type": "code",
   "execution_count": 2,
   "metadata": {},
   "outputs": [
    {
     "name": "stdout",
     "output_type": "stream",
     "text": [
      "2.3.1+cu118\n"
     ]
    }
   ],
   "source": [
    "import os\n",
    "import torch\n",
    "import logging\n",
    "import numpy as np\n",
    "from zipfile import ZipFile\n",
    "from BudaOCR.Config import N_CHARSET\n",
    "from huggingface_hub import snapshot_download\n",
    "from BudaOCR.Modules import CRNNNetwork, OCRTrainer, WylieEncoder, StackEncoder\n",
    "from BudaOCR.Utils import shuffle_data, create_dir, build_data_paths, build_distribution_from_file, read_stack_file\n",
    "logging.getLogger().setLevel(logging.INFO)\n",
    "\n",
    "torch.cuda.empty_cache()\n",
    "print(torch.__version__)"
   ]
  },
  {
   "cell_type": "code",
   "execution_count": null,
   "metadata": {},
   "outputs": [],
   "source": [
    "charset = N_CHARSET\n",
    "wylie_encoder = WylieEncoder(N_CHARSET)\n",
    "\n",
    "stack_file = f\"tib-stacks.txt\"\n",
    "stacks = read_stack_file(stack_file)\n",
    "stack_encoder = StackEncoder(stacks)\n",
    "\n",
    "print(stack_encoder.num_classes())\n",
    "print(wylie_encoder.num_classes())"
   ]
  },
  {
   "cell_type": "code",
   "execution_count": null,
   "metadata": {},
   "outputs": [],
   "source": [
    "data_path = snapshot_download(repo_id=\"BDRC/Karmapa8\", repo_type=\"dataset\",  cache_dir=\"Datasets\")\n",
    "\n",
    "with ZipFile(f\"{data_path}/data.zip\", 'r') as zip:\n",
    "    zip.extractall(f\"{data_path}/Dataset\")\n",
    "\n",
    "dataset_path = f\"{data_path}/Dataset\"\n",
    "image_paths, label_paths = build_data_paths(dataset_path)\n",
    "image_paths, label_paths = shuffle_data(image_paths, label_paths)\n",
    "\n",
    "print(f\"Images: {len(image_paths)}, Labels: {len(label_paths)}\")\n",
    "\n",
    "output_dir = os.path.join(\"Output\")\n",
    "create_dir(output_dir)"
   ]
  },
  {
   "cell_type": "code",
   "execution_count": null,
   "metadata": {},
   "outputs": [],
   "source": [
    "output_dir = os.path.join(dataset_path, \"Output\")\n",
    "create_dir(output_dir)\n",
    "\n",
    "image_width = 3200\n",
    "image_height = 80\n",
    "encoder = stack_encoder\n",
    "num_classes = encoder.num_classes()\n",
    "\n",
    "network = CRNNNetwork(image_width=image_width, image_height=image_height, num_classes=num_classes)\n",
    "workers = 4\n",
    "\n",
    "ocr_trainer = OCRTrainer(\n",
    "    network=network,\n",
    "    label_encoder=wylie_encoder,\n",
    "    workers=workers, \n",
    "    image_width=image_width,\n",
    "    image_height=image_height,\n",
    "    batch_size=32, \n",
    "    output_dir=output_dir, \n",
    "    preload_labels=True\n",
    "    )\n",
    "\n",
    "ocr_trainer.init(image_paths, label_paths)"
   ]
  },
  {
   "cell_type": "code",
   "execution_count": null,
   "metadata": {},
   "outputs": [],
   "source": [
    "ocr_trainer.train(epochs=40, scheduler_start=32, check_cer=True)"
   ]
  },
  {
   "cell_type": "code",
   "execution_count": null,
   "metadata": {},
   "outputs": [],
   "source": [
    "cer_scores = ocr_trainer.evaluate()\n",
    "\n",
    "print(f\"Mean CER: {np.mean(cer_scores)}\")\n",
    "print(f\"Max CER: {np.max(cer_scores)}\")\n",
    "print(f\"Min CER: {np.min(cer_scores)}\")"
   ]
  },
  {
   "cell_type": "markdown",
   "metadata": {},
   "source": [
    "#### Train from fixed Distribution"
   ]
  },
  {
   "cell_type": "code",
   "execution_count": null,
   "metadata": {},
   "outputs": [],
   "source": [
    "dataset_path = \"E:/Datasets/OCR/DbuMed/NEW/Drutsa-Complete/batch27\"\n",
    "latest_chkpt_dir = f\"{dataset_path}/Output/2024_9_24_15_19\"\n",
    "distr_file = f\"{latest_chkpt_dir}/data.distribution\"\n",
    "\n",
    "distribution = build_distribution_from_file(distr_file, dataset_path)\n",
    "#chkpt_path = \"E:/Datasets/OCR/DbuMed/NEW/Drutsa-Batch31/batch31/Output/2024_9_23_21_49/OCRModel.pth\"\n",
    "output_dir = os.path.join(dataset_path, \"Output\")\n",
    "create_dir(output_dir)\n",
    "\n",
    "image_width = 3200\n",
    "image_height = 100\n",
    "encoder = wylie_encoder\n",
    "num_classes = encoder.num_classes()\n",
    "\n",
    "network = CRNNNetwork(num_classes=num_classes, image_width=image_width, image_height=image_height)\n",
    "#network.load_checkpoint(chkpt_path)\n",
    "\n",
    "workers = 4\n",
    "\n",
    "ocr_trainer = OCRTrainer(\n",
    "    network=network,\n",
    "    label_encoder=encoder,\n",
    "    workers=workers, \n",
    "    image_width=image_width,\n",
    "    image_height=image_height,\n",
    "    batch_size=32, \n",
    "    output_dir=output_dir, \n",
    "    preload_labels=True\n",
    "    )\n",
    "\n",
    "ocr_trainer.init_from_distribution(distribution)"
   ]
  },
  {
   "cell_type": "code",
   "execution_count": null,
   "metadata": {},
   "outputs": [],
   "source": [
    "ocr_trainer.train(epochs=40, check_cer=True, export_onnx=True)"
   ]
  },
  {
   "cell_type": "markdown",
   "metadata": {},
   "source": [
    "#### Evaluate on Test set"
   ]
  },
  {
   "cell_type": "code",
   "execution_count": 8,
   "metadata": {},
   "outputs": [],
   "source": [
    "cer_scores = ocr_trainer.evaluate()\n",
    "\n",
    "print(f\"Mean CER: {np.mean(cer_scores)}\")\n",
    "print(f\"Max CER: {np.max(cer_scores)}\")\n",
    "print(f\"Min CER: {np.min(cer_scores)}\")"
   ]
  }
 ],
 "metadata": {
  "kernelspec": {
   "display_name": ".venv",
   "language": "python",
   "name": "python3"
  },
  "language_info": {
   "codemirror_mode": {
    "name": "ipython",
    "version": 3
   },
   "file_extension": ".py",
   "mimetype": "text/x-python",
   "name": "python",
   "nbconvert_exporter": "python",
   "pygments_lexer": "ipython3",
   "version": "3.11.9"
  }
 },
 "nbformat": 4,
 "nbformat_minor": 2
}
