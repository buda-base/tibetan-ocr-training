{
 "cells": [
  {
   "cell_type": "code",
   "execution_count": 2,
   "metadata": {},
   "outputs": [
    {
     "name": "stderr",
     "output_type": "stream",
     "text": [
      "e:\\Github\\tibetan-ocr-training\\.venv\\Lib\\site-packages\\tqdm\\auto.py:21: TqdmWarning: IProgress not found. Please update jupyter and ipywidgets. See https://ipywidgets.readthedocs.io/en/stable/user_install.html\n",
      "  from .autonotebook import tqdm as notebook_tqdm\n",
      "e:\\Github\\tibetan-ocr-training\\.venv\\Lib\\site-packages\\albumentations\\__init__.py:13: UserWarning: A new version of Albumentations is available: 1.4.15 (you have 1.4.14). Upgrade using: pip install -U albumentations. To disable automatic update checks, set the environment variable NO_ALBUMENTATIONS_UPDATE to 1.\n",
      "  check_for_updates()\n",
      "kenlm python bindings are not installed. Most likely you want to install it using: pip install https://github.com/kpu/kenlm/archive/master.zip\n",
      "kenlm python bindings are not installed. Most likely you want to install it using: pip install https://github.com/kpu/kenlm/archive/master.zip\n"
     ]
    },
    {
     "name": "stdout",
     "output_type": "stream",
     "text": [
      "2.3.1+cu118\n"
     ]
    }
   ],
   "source": [
    "import os\n",
    "import torch\n",
    "import logging\n",
    "from zipfile import ZipFile\n",
    "from BudaOCR.Config import N_CHARSET\n",
    "from huggingface_hub import snapshot_download\n",
    "from BudaOCR.Modules import CRNNNetwork, OCRTrainer, WylieEncoder\n",
    "from BudaOCR.Utils import shuffle_data, create_dir, build_data_paths, build_distribution_paths, read_distribution\n",
    "\n",
    "logging.getLogger().setLevel(logging.INFO)\n",
    "\n",
    "torch.cuda.empty_cache()\n",
    "print(torch.__version__)"
   ]
  },
  {
   "cell_type": "code",
   "execution_count": 3,
   "metadata": {},
   "outputs": [],
   "source": [
    "charset = N_CHARSET\n",
    "num_classes=len(charset)+1"
   ]
  },
  {
   "cell_type": "code",
   "execution_count": null,
   "metadata": {},
   "outputs": [],
   "source": [
    "data_path = snapshot_download(repo_id=\"BDRC/Karmapa8\", repo_type=\"dataset\",  cache_dir=\"Datasets\")\n",
    "\n",
    "with ZipFile(f\"{data_path}/data.zip\", 'r') as zip:\n",
    "    zip.extractall(f\"{data_path}/Dataset\")\n",
    "\n",
    "dataset_path = f\"{data_path}/Dataset\"\n",
    "image_paths, label_paths = build_data_paths(dataset_path)\n",
    "image_paths, label_paths = shuffle_data(image_paths, label_paths)\n",
    "\n",
    "print(f\"Images: {len(image_paths)}, Labels: {len(label_paths)}\")\n",
    "\n",
    "output_dir = os.path.join(\"Output\")\n",
    "create_dir(output_dir)"
   ]
  },
  {
   "cell_type": "code",
   "execution_count": 5,
   "metadata": {},
   "outputs": [
    {
     "name": "stdout",
     "output_type": "stream",
     "text": [
      "Images: 5946, Labels: 5946\n"
     ]
    }
   ],
   "source": [
    "dataset_path = \"Datasets/Drutsa-Batch31/batch31\"\n",
    "image_paths, label_paths = build_data_paths(dataset_path)\n",
    "image_paths, label_paths = shuffle_data(image_paths, label_paths)\n",
    "\n",
    "print(f\"Images: {len(image_paths)}, Labels: {len(label_paths)}\")"
   ]
  },
  {
   "cell_type": "code",
   "execution_count": 6,
   "metadata": {},
   "outputs": [
    {
     "name": "stdout",
     "output_type": "stream",
     "text": [
      "80\n"
     ]
    }
   ],
   "source": [
    "wylie_encoder = WylieEncoder(N_CHARSET)\n",
    "print(wylie_encoder.num_classes())\n"
   ]
  },
  {
   "cell_type": "code",
   "execution_count": 7,
   "metadata": {},
   "outputs": [
    {
     "name": "stdout",
     "output_type": "stream",
     "text": [
      "Created output directory: Datasets/Drutsa-Batch31/batch31\\Output\n",
      "Created output directory: Datasets/Drutsa-Batch31/batch31\\Output\\2024_9_20_21_54\n",
      "OCR-Trainer -> Architecture: CRNN\n"
     ]
    }
   ],
   "source": [
    "output_dir = os.path.join(dataset_path, \"Output\")\n",
    "create_dir(output_dir)\n",
    "\n",
    "image_width = 3200\n",
    "image_height = 100\n",
    "num_classes = wylie_encoder.num_classes()\n",
    "\n",
    "network = CRNNNetwork(image_width=image_width, image_height=image_height, num_classes=num_classes)\n",
    "workers = 4\n",
    "\n",
    "ocr_trainer = OCRTrainer(\n",
    "    network=network,\n",
    "    label_encoder=wylie_encoder,\n",
    "    workers=workers, \n",
    "    image_width=image_width,\n",
    "    image_height=image_height,\n",
    "    batch_size=32, \n",
    "    output_dir=output_dir, \n",
    "    preload_labels=True\n",
    "    )\n",
    "\n",
    "ocr_trainer.init(image_paths, label_paths)"
   ]
  },
  {
   "cell_type": "code",
   "execution_count": null,
   "metadata": {},
   "outputs": [],
   "source": [
    "ocr_trainer.train(epochs=26, scheduler_start=20, check_cer=True)"
   ]
  },
  {
   "cell_type": "code",
   "execution_count": 10,
   "metadata": {},
   "outputs": [
    {
     "name": "stdout",
     "output_type": "stream",
     "text": [
      "Train Samples: 3928\n",
      "Val Samples: 491\n",
      "Test Samples: 491\n"
     ]
    }
   ],
   "source": [
    "data_path = \"E:/Github/DataProcessing/Data/DbuMed/DrutsaB-Dataset\"\n",
    "distr = f\"{data_path}/Output/2024_8_26_15_52/data.distribution\"\n",
    "\n",
    "train_samples, valid_samples, test_samples = read_distribution(distr)\n",
    "\n",
    "print(f\"Train Samples: {len(train_samples)}\")\n",
    "print(f\"Val Samples: {len(valid_samples)}\")\n",
    "print(f\"Test Samples: {len(test_samples)}\")\n",
    "\n",
    "train_images, train_labels = build_distribution_paths(data_path, train_samples)\n",
    "valid_images, valid_labels = build_distribution_paths(data_path, valid_samples)\n",
    "test_images, test_labels = build_distribution_paths(data_path, test_samples)\n",
    "\n",
    "distribution = {}\n",
    "distribution[\"train_images\"] = train_images\n",
    "distribution[\"train_labels\"] = train_labels\n",
    "distribution[\"valid_images\"] = valid_images\n",
    "distribution[\"valid_labels\"] = valid_labels\n",
    "distribution[\"test_images\"] = test_images\n",
    "distribution[\"test_labels\"] = test_labels\n",
    "\n",
    "\n",
    "output_dir = os.path.join(data_path, \"Output\")\n",
    "create_dir(output_dir)"
   ]
  },
  {
   "cell_type": "code",
   "execution_count": null,
   "metadata": {},
   "outputs": [],
   "source": [
    "image_width = 3200\n",
    "network = CRNNNetwork(image_width=image_width, num_classes=num_classes)\n",
    "workers = 4\n",
    "ocr_trainer = OCRTrainer(network=network, workers=workers, charset=charset, image_width=3200, batch_size=32, output_dir=output_dir, preload_labels=True)\n",
    "\n",
    "ocr_trainer.init_from_distribution(distribution)\n",
    "ocr_trainer.train(epochs=48, scheduler_start=38, check_cer=True)"
   ]
  }
 ],
 "metadata": {
  "kernelspec": {
   "display_name": ".venv",
   "language": "python",
   "name": "python3"
  },
  "language_info": {
   "codemirror_mode": {
    "name": "ipython",
    "version": 3
   },
   "file_extension": ".py",
   "mimetype": "text/x-python",
   "name": "python",
   "nbconvert_exporter": "python",
   "pygments_lexer": "ipython3",
   "version": "3.11.9"
  }
 },
 "nbformat": 4,
 "nbformat_minor": 2
}
