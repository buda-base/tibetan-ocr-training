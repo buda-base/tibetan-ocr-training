{
 "cells": [
  {
   "cell_type": "code",
   "execution_count": null,
   "metadata": {},
   "outputs": [],
   "source": [
    "import os\n",
    "import numpy as np\n",
    "from tqdm import tqdm\n",
    "from evaluate import load\n",
    "from torch.utils.data import DataLoader\n",
    "from BudaOCR.Config import CHARSET, STACK_FILE\n",
    "from BudaOCR.Modules import CTCDataset, ModelTester, EasterNetwork, CRNNNetwork, WylieEncoder, StackEncoder\n",
    "from BudaOCR.Utils import build_distribution_paths, get_filename, read_distribution, read_ocr_model_config"
   ]
  },
  {
   "cell_type": "code",
   "execution_count": 2,
   "metadata": {},
   "outputs": [],
   "source": [
    "os.environ[\"NO_ALBUMENTATIONS_UPDATE\"] = \"1\""
   ]
  },
  {
   "cell_type": "code",
   "execution_count": 4,
   "metadata": {},
   "outputs": [],
   "source": [
    "dataset_dir = \"E:/Datasets/OCR/DbuMed/NEW/Drutsa-Complete/batch31\"\n",
    "chkpt_dir = f\"{dataset_dir}/Output/2024_9_23_16_12\"\n",
    "\n",
    "config_file = f\"{chkpt_dir}/model_config.json\"\n",
    "distribution_file = f\"{chkpt_dir}/data.distribution\"\n",
    "\n",
    "assert os.path.isfile(config_file)\n",
    "assert os.path.isfile(distribution_file)"
   ]
  },
  {
   "cell_type": "code",
   "execution_count": 7,
   "metadata": {},
   "outputs": [
    {
     "name": "stdout",
     "output_type": "stream",
     "text": [
      "Train samples: 2682\n",
      "Valid samples: 335\n",
      "Test samples: 336\n"
     ]
    }
   ],
   "source": [
    "checkpoint, architecture, encoder, input_width, input_height, charset = read_ocr_model_config(config_file)\n",
    "train_samples, valid_samples, test_samples = read_distribution(distribution_file)\n",
    "test_images, test_label_paths = build_distribution_paths(dataset_dir, test_samples)\n",
    "\n",
    "print(f\"Train samples: {len(train_samples)}\")\n",
    "print(f\"Valid samples: {len(valid_samples)}\")\n",
    "print(f\"Test samples: {len(test_samples)}\")"
   ]
  },
  {
   "cell_type": "code",
   "execution_count": null,
   "metadata": {},
   "outputs": [],
   "source": [
    "if encoder == \"wylie\":\n",
    "    label_encoder = WylieEncoder(charset)\n",
    "else:\n",
    "    label_encoder = StackEncoder(charset)\n",
    "\n",
    "test_labels = [label_encoder.read_label(x) for x in test_label_paths]\n",
    "num_classes = label_encoder.num_classes()\n",
    "\n",
    "\n",
    "if architecture == \"Easter2\":\n",
    "    network = EasterNetwork(input_width, input_height, num_classes)\n",
    "else:\n",
    "    network = CRNNNetwork(input_width, input_height, num_classes)\n",
    "    \n",
    "test_dataset = CTCDataset(\n",
    "        images=test_images,\n",
    "        labels=test_labels,\n",
    "        label_encoder=label_encoder,\n",
    "        img_height=input_height,\n",
    "        img_width=input_width\n",
    "    )\n",
    "\n",
    "\n",
    "model_tester = ModelTester(network, label_encoder)"
   ]
  },
  {
   "cell_type": "code",
   "execution_count": null,
   "metadata": {},
   "outputs": [],
   "source": [
    "network.device"
   ]
  },
  {
   "cell_type": "code",
   "execution_count": null,
   "metadata": {},
   "outputs": [],
   "source": [
    "cer_scores = model_tester.evaluate(test_dataset, test_label_paths)\n",
    "cer_values = list(cer_scores.values())\n",
    "\n",
    "print(f\"Mean CER: {np.mean(cer_values)}\")\n",
    "print(f\"Max CER: {np.max(cer_values)}\")\n",
    "print(f\"Min CER: {np.min(cer_values)}\")\n",
    "\n",
    "score_file = os.path.join(chkpt_dir, \"cer_scores.txt\")\n",
    "\n",
    "with open(score_file, \"w\", encoding=\"utf-8\") as f:\n",
    "    for sample, value in cer_scores.items():\n",
    "        f.write(f\"{sample} - {value}/n\")"
   ]
  }
 ],
 "metadata": {
  "kernelspec": {
   "display_name": ".venv",
   "language": "python",
   "name": "python3"
  },
  "language_info": {
   "codemirror_mode": {
    "name": "ipython",
    "version": 3
   },
   "file_extension": ".py",
   "mimetype": "text/x-python",
   "name": "python",
   "nbconvert_exporter": "python",
   "pygments_lexer": "ipython3",
   "version": "3.11.9"
  }
 },
 "nbformat": 4,
 "nbformat_minor": 2
}
